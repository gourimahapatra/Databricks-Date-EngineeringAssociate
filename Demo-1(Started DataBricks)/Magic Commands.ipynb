{
 "cells": [
  {
   "cell_type": "markdown",
   "metadata": {
    "application/vnd.databricks.v1+cell": {
     "cellMetadata": {},
     "inputWidgets": {},
     "nuid": "3f6f3e3c-e3c6-4866-800d-d3668db14801",
     "showTitle": false,
     "tableResultSettingsMap": {},
     "title": ""
    }
   },
   "source": [
    "# Magic Commands\n",
    "\n",
    "| **Command**     | **Purpose**                                      | **Example**                                                                 |\n",
    "|------------------|--------------------------------------------------|------------------------------------------------------------------------------|\n",
    "| `%config`        | Set configuration options for the notebook       | `%config InlineBackend.figure_format = 'retina'`                            |\n",
    "| `%env`           | Set environment variables                        | `%env MY_VAR=value`                                                         |\n",
    "| `%fs`            | Interact with the Databricks file system         | `%fs ls dbfs:/repo`                                                         |\n",
    "| `%load`          | Loads the contents of a file into a cell         | `%load my_script.py`                                                        |\n",
    "| `%lsmagic`       | List all magic commands                          | `%lsmagic`                                                                  |\n",
    "| `%jobs`          | Lists all running jobs                           | `%jobs`                                                                     |\n",
    "| `%matplotlib`    | Sets up the matplotlib backend                   | `%matplotlib inline`                                                        |\n",
    "| `%md`            | Write Markdown text                              | `%md # This is a Markdown heading`                                          |\n",
    "| `%pip`           | Install Python packages                          | `%pip install numpy`                                                        |\n",
    "| `%python`        | Executes Python code                             | `%python dbutils.fs.rm(\"/user/hive/warehouse/test/\", True)`                |\n",
    "| `%r`             | Execute R code                                   | `%r x <- c(1, 2, 3); mean(x)`                                               |\n",
    "| `%reload`        | Reloads module contents                          | `%reload_ext autoreload`                                                    |\n",
    "| `%run`           | Executes a Python file or a notebook             | `%run ./my_notebook.ipynb`                                                  |\n",
    "| `%scala`         | Executes Scala code                              | `%scala val x = List(1, 2, 3); x.map(_ * 2)`                                 |\n",
    "| `%sh`            | Executes shell commands on the cluster nodes     | `%sh git clone https://github.com/repo/test`                                |\n",
    "| `%sql`           | Executes SQL queries                             | `%sql SELECT * FROM users WHERE age > 30`                                   |\n",
    "| `%who`           | Lists all the variables in the current scope     | `%who`                                                                      |\n"
   ]
  },
  {
   "cell_type": "code",
   "execution_count": 0,
   "metadata": {
    "application/vnd.databricks.v1+cell": {
     "cellMetadata": {
      "byteLimit": 2048000,
      "implicitDf": true,
      "rowLimit": 10000
     },
     "inputWidgets": {},
     "nuid": "0b6f89df-19fd-458f-9e6f-746dc59faf29",
     "showTitle": false,
     "tableResultSettingsMap": {},
     "title": ""
    }
   },
   "outputs": [],
   "source": [
    "%sql\n",
    "select \"Gouri\""
   ]
  },
  {
   "cell_type": "code",
   "execution_count": 0,
   "metadata": {
    "application/vnd.databricks.v1+cell": {
     "cellMetadata": {
      "byteLimit": 2048000,
      "rowLimit": 10000
     },
     "inputWidgets": {},
     "nuid": "f58c66af-0da7-499f-b284-6c6b10d6f198",
     "showTitle": false,
     "tableResultSettingsMap": {},
     "title": ""
    }
   },
   "outputs": [],
   "source": [
    "%python\n",
    "print(\"Gouri\")"
   ]
  },
  {
   "cell_type": "code",
   "execution_count": 0,
   "metadata": {
    "application/vnd.databricks.v1+cell": {
     "cellMetadata": {
      "byteLimit": 2048000,
      "rowLimit": 10000
     },
     "inputWidgets": {},
     "nuid": "f69f85fc-ee64-4ff4-a9b4-14822a722c0e",
     "showTitle": false,
     "tableResultSettingsMap": {},
     "title": ""
    }
   },
   "outputs": [],
   "source": [
    "%who\n"
   ]
  },
  {
   "cell_type": "code",
   "execution_count": 0,
   "metadata": {
    "application/vnd.databricks.v1+cell": {
     "cellMetadata": {
      "byteLimit": 2048000,
      "rowLimit": 10000
     },
     "inputWidgets": {},
     "nuid": "b9d00b9c-0c58-4d96-9ef5-39c9232a5282",
     "showTitle": false,
     "tableResultSettingsMap": {},
     "title": ""
    }
   },
   "outputs": [],
   "source": [
    "%sh\n",
    "ls /Workspace"
   ]
  },
  {
   "cell_type": "markdown",
   "metadata": {
    "application/vnd.databricks.v1+cell": {
     "cellMetadata": {},
     "inputWidgets": {},
     "nuid": "e8d73b4c-067d-4a6c-ab59-c15c6d763dbd",
     "showTitle": false,
     "tableResultSettingsMap": {},
     "title": ""
    }
   },
   "source": [
    "# Copying Files"
   ]
  },
  {
   "cell_type": "code",
   "execution_count": 0,
   "metadata": {
    "application/vnd.databricks.v1+cell": {
     "cellMetadata": {},
     "inputWidgets": {},
     "nuid": "6afaed82-9fa1-42e7-bc4f-67544f4d858b",
     "showTitle": false,
     "tableResultSettingsMap": {},
     "title": ""
    }
   },
   "outputs": [],
   "source": [
    "%fs cp file:/<path> /Volumes/<catalog>/<schema>/<volume>/<path>\n",
    "\n",
    "%python dbutils.fs.cp(\"file:/<path>\", \"/Volumes/<catalog>/<schema>/<volume>/<path>\")\n",
    "%python dbutils.fs.cp(\"file:/databricks/driver/test\", \"dbfs:/repo\", True)\n",
    "\n",
    "%sh cp /<path> /Volumes/<catalog>/<schema>/<volume>/<path>"
   ]
  }
 ],
 "metadata": {
  "application/vnd.databricks.v1+notebook": {
   "computePreferences": null,
   "dashboards": [],
   "environmentMetadata": {
    "base_environment": "",
    "environment_version": "2"
   },
   "inputWidgetPreferences": null,
   "language": "python",
   "notebookMetadata": {
    "mostRecentlyExecutedCommandWithImplicitDF": {
     "commandId": 5311061150778564,
     "dataframes": [
      "_sqldf"
     ]
    },
    "pythonIndentUnit": 4
   },
   "notebookName": "Magic Commands",
   "widgets": {}
  },
  "language_info": {
   "name": "python"
  }
 },
 "nbformat": 4,
 "nbformat_minor": 0
}
